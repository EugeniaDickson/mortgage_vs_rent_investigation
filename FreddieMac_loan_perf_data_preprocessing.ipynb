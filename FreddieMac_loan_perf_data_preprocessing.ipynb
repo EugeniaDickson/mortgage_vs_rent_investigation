{
 "cells": [
  {
   "cell_type": "code",
   "execution_count": 1,
   "id": "common-kruger",
   "metadata": {},
   "outputs": [],
   "source": [
    "import pandas as pd\n",
    "import numpy as np\n",
    "from matplotlib import pyplot as plt"
   ]
  },
  {
   "cell_type": "code",
   "execution_count": 2,
   "id": "rubber-replica",
   "metadata": {},
   "outputs": [],
   "source": [
    "colnames_origination = [\n",
    "            'credit_score',\n",
    "            'first_payment_date',\n",
    "            'first_time_homebuyer_flag',\n",
    "            'maturity_date',\n",
    "            'metropolitan_area',\n",
    "            'mortgage_insurance_percentage',\n",
    "            'number_of_units',\n",
    "            'occupancy_status',\n",
    "            'original_combined_loan-to-value',\n",
    "            'original_debt-to-income_ratio',\n",
    "            'original_upb',\n",
    "            'original_loan-to-value',\n",
    "            'original_interest_rate',\n",
    "            'channel',\n",
    "            'prepayment_penalty_mortgage_flag',\n",
    "            'amortization_type',\n",
    "            'property_state',\n",
    "            'property_type',\n",
    "            'postal_code',\n",
    "            'loan_sequence_number',\n",
    "            'loan_purpose',\n",
    "            'original_loan_term',\n",
    "            'number_of_borrowers',\n",
    "            'seller_name',\n",
    "            'servicer_name',\n",
    "            'super_conforming_flag',\n",
    "            'pre-harp_loan_sequence_number',\n",
    "            'program_indicator',\n",
    "            'harp_indicator',\n",
    "            'property_valuation_method',\n",
    "            'interest_only_indicator'\n",
    "            ]"
   ]
  },
  {
   "cell_type": "code",
   "execution_count": 3,
   "id": "convinced-thing",
   "metadata": {},
   "outputs": [],
   "source": [
    "colnames_performance = [\n",
    "                        'loan_sequence_number',\n",
    "                        'monthly_reporting_period',\n",
    "                        'current_actual_upb',\n",
    "                        'current_loan_delinquency_status',\n",
    "                        'loan_age',\n",
    "                        'remaining_months_to_legal_maturity',\n",
    "                        'repurchase_flag',\n",
    "                        'modification_flag',\n",
    "                        'zero_balance_code',\n",
    "                        'zero_balance_effective_date',\n",
    "                        'current_interest_rate',\n",
    "                        'current_deferred_upb',\n",
    "                        'due_date_of_last_paid_installment',\n",
    "                        'mi_recoveries',\n",
    "                        'net_sales_proceeds',\n",
    "                        'non_mi_recoveries',\n",
    "                        'expenses',\n",
    "                        'legal_costs',\n",
    "                        'maintenance_and_preservation_costs',\n",
    "                        'taxes_and_insurance',\n",
    "                        'miscellaneous_expenses',\n",
    "                        'actual_loss_calculation',\n",
    "                        'modification_cost',\n",
    "                        'step_modification_flag',\n",
    "                        'deferred_payment_plan',\n",
    "                        'estimated_loan-to-value',\n",
    "                        'zero_balance_removal_upb',\n",
    "                        'delinquent_accrued_interest',\n",
    "                        'delinquency_due_to_disaster',\n",
    "                        'borrower_assistance_status_code'\n",
    "]"
   ]
  },
  {
   "cell_type": "code",
   "execution_count": 4,
   "id": "engaging-windsor",
   "metadata": {},
   "outputs": [],
   "source": [
    "def read_file(file, colnames):\n",
    "     return pd.read_csv(file, delimiter='|', low_memory=False, names=colnames)"
   ]
  },
  {
   "cell_type": "code",
   "execution_count": 5,
   "id": "earlier-label",
   "metadata": {},
   "outputs": [
    {
     "name": "stdout",
     "output_type": "stream",
     "text": [
      "Wall time: 2min 39s\n"
     ]
    }
   ],
   "source": [
    "%%time\n",
    "loan_perf = pd.concat( [read_file('historical_data_time_2018Q1.txt', colnames_performance),\n",
    "                                read_file('historical_data_time_2018Q2.txt', colnames_performance),\n",
    "                                read_file('historical_data_time_2018Q3.txt', colnames_performance),\n",
    "                                read_file('historical_data_time_2018Q4.txt', colnames_performance),\n",
    "                                read_file('historical_data_time_2019Q1.txt', colnames_performance),\n",
    "                                read_file('historical_data_time_2019Q2.txt', colnames_performance),\n",
    "                                read_file('historical_data_time_2019Q3.txt', colnames_performance),\n",
    "                                read_file('historical_data_time_2019Q4.txt', colnames_performance),\n",
    "                                read_file('historical_data_time_2020Q1.txt', colnames_performance),\n",
    "                                read_file('historical_data_time_2020Q2.txt', colnames_performance),\n",
    "                                read_file('historical_data_time_2020Q3.txt', colnames_performance)],\n",
    "                                axis=0\n",
    "                                )"
   ]
  },
  {
   "cell_type": "code",
   "execution_count": 6,
   "id": "accomplished-agriculture",
   "metadata": {},
   "outputs": [
    {
     "name": "stdout",
     "output_type": "stream",
     "text": [
      "Wall time: 16 s\n"
     ]
    }
   ],
   "source": [
    "%%time\n",
    "loan_orig = pd.concat( [read_file('historical_data_2018Q1.txt', colnames_origination),\n",
    "                                read_file('historical_data_2018Q2.txt', colnames_origination),\n",
    "                                read_file('historical_data_2018Q3.txt', colnames_origination),\n",
    "                                read_file('historical_data_2018Q4.txt', colnames_origination),\n",
    "                                read_file('historical_data_2019Q1.txt', colnames_origination),\n",
    "                                read_file('historical_data_2019Q2.txt', colnames_origination),\n",
    "                                read_file('historical_data_2019Q3.txt', colnames_origination),\n",
    "                                read_file('historical_data_2019Q4.txt', colnames_origination),\n",
    "                                read_file('historical_data_2020Q1.txt', colnames_origination),\n",
    "                                read_file('historical_data_2020Q2.txt', colnames_origination),\n",
    "                                read_file('historical_data_2020Q3.txt', colnames_origination)],\n",
    "                                axis=0\n",
    "                                )"
   ]
  },
  {
   "cell_type": "markdown",
   "id": "cultural-shelf",
   "metadata": {},
   "source": [
    "### Selecting the columns with less than 20% missing data"
   ]
  },
  {
   "cell_type": "code",
   "execution_count": 7,
   "id": "blank-principal",
   "metadata": {},
   "outputs": [
    {
     "data": {
      "text/plain": [
       "['loan_sequence_number',\n",
       " 'monthly_reporting_period',\n",
       " 'current_actual_upb',\n",
       " 'current_loan_delinquency_status',\n",
       " 'loan_age',\n",
       " 'remaining_months_to_legal_maturity',\n",
       " 'current_interest_rate',\n",
       " 'current_deferred_upb',\n",
       " 'estimated_loan-to-value',\n",
       " 'zero_balance_code',\n",
       " 'zero_balance_effective_date',\n",
       " 'zero_balance_removal_upb']"
      ]
     },
     "execution_count": 7,
     "metadata": {},
     "output_type": "execute_result"
    }
   ],
   "source": [
    "perf_selected = []\n",
    "numlines = loan_perf.shape[0]\n",
    "for col in loan_perf.columns:\n",
    "#     print(int(perf_18_20[col].isna().sum()*100/numlines), ' >> ', col)\n",
    "    if loan_perf[col].isna().sum()*100/numlines <= 20:\n",
    "        perf_selected.append(col)\n",
    "    else: pass\n",
    "perf_selected = perf_selected+['zero_balance_code', 'zero_balance_effective_date', 'zero_balance_removal_upb']\n",
    "\n",
    "perf_selected"
   ]
  },
  {
   "cell_type": "code",
   "execution_count": 8,
   "id": "documentary-riding",
   "metadata": {},
   "outputs": [
    {
     "data": {
      "text/plain": [
       "['credit_score',\n",
       " 'first_payment_date',\n",
       " 'first_time_homebuyer_flag',\n",
       " 'maturity_date',\n",
       " 'metropolitan_area',\n",
       " 'mortgage_insurance_percentage',\n",
       " 'number_of_units',\n",
       " 'occupancy_status',\n",
       " 'original_combined_loan-to-value',\n",
       " 'original_debt-to-income_ratio',\n",
       " 'original_upb',\n",
       " 'original_loan-to-value',\n",
       " 'original_interest_rate',\n",
       " 'channel',\n",
       " 'prepayment_penalty_mortgage_flag',\n",
       " 'amortization_type',\n",
       " 'property_state',\n",
       " 'property_type',\n",
       " 'postal_code',\n",
       " 'loan_sequence_number',\n",
       " 'loan_purpose',\n",
       " 'original_loan_term',\n",
       " 'number_of_borrowers',\n",
       " 'seller_name',\n",
       " 'servicer_name',\n",
       " 'program_indicator',\n",
       " 'property_valuation_method',\n",
       " 'interest_only_indicator']"
      ]
     },
     "execution_count": 8,
     "metadata": {},
     "output_type": "execute_result"
    }
   ],
   "source": [
    "orig_selected = []\n",
    "numlines = loan_orig.shape[0]\n",
    "for col in loan_orig.columns:\n",
    "#     print(int(orig_18_20[col].isna().sum()*100/numlines), ' >> ', col)\n",
    "    if loan_orig[col].isna().sum()*100/numlines <= 20:\n",
    "        orig_selected.append(col)\n",
    "    else: pass\n",
    "    \n",
    "orig_selected"
   ]
  },
  {
   "cell_type": "code",
   "execution_count": 9,
   "id": "periodic-prophet",
   "metadata": {},
   "outputs": [],
   "source": [
    "loan_orig = loan_orig[orig_selected]\n",
    "loan_perf = loan_perf[perf_selected]"
   ]
  },
  {
   "cell_type": "markdown",
   "id": "acute-liability",
   "metadata": {},
   "source": [
    "## San Francisco Metro Area"
   ]
  },
  {
   "cell_type": "code",
   "execution_count": 10,
   "id": "bearing-aaron",
   "metadata": {},
   "outputs": [],
   "source": [
    "# 41860   San Francisco-Oakland-Hayward, CA Metropolitan Statistical Area\n",
    "# 36084   Oakland-Hayward-Berkeley, CA Metropolitan Division\n",
    "# 41884   San Francisco-Redwood City-South San Francisco, CA Metropolitan Division\n",
    "# 42034   San Rafael, CA Metropolitan Division\n",
    "msa_codes_sf = [36084, 41884, 41860]"
   ]
  },
  {
   "cell_type": "code",
   "execution_count": 11,
   "id": "studied-times",
   "metadata": {},
   "outputs": [],
   "source": [
    "loan_orig_sf = loan_orig[loan_orig['metropolitan_area'].isin(msa_codes_sf)]"
   ]
  },
  {
   "cell_type": "code",
   "execution_count": 12,
   "id": "elegant-bathroom",
   "metadata": {},
   "outputs": [],
   "source": [
    "loan_data_sf = pd.merge(loan_orig_sf, loan_perf, on='loan_sequence_number')"
   ]
  },
  {
   "cell_type": "code",
   "execution_count": 13,
   "id": "saving-signal",
   "metadata": {},
   "outputs": [],
   "source": [
    "loan_data_sf.to_csv('loan_perf_18_20_sf.csv', index=False)"
   ]
  },
  {
   "cell_type": "markdown",
   "id": "brave-embassy",
   "metadata": {},
   "source": [
    "## Miami Metro Area"
   ]
  },
  {
   "cell_type": "code",
   "execution_count": 14,
   "id": "spare-greenhouse",
   "metadata": {},
   "outputs": [],
   "source": [
    "# 22744   Fort Lauderdale-Pompano Beach-Deerfield Beach, FL Metropolitan Division\n",
    "# 33124   Miami-Miami Beach-Kendall, FL Metropolitan Division\n",
    "# 48424   West Palm Beach-Boca Raton-Delray Beach, FL Metropolitan Division\n",
    "msa_codes_mi = [22744, 33124, 48424]"
   ]
  },
  {
   "cell_type": "code",
   "execution_count": 15,
   "id": "fancy-price",
   "metadata": {},
   "outputs": [],
   "source": [
    "loan_orig_mi = loan_orig[loan_orig['metropolitan_area'].isin(msa_codes_mi)]"
   ]
  },
  {
   "cell_type": "code",
   "execution_count": 16,
   "id": "affiliated-marketing",
   "metadata": {},
   "outputs": [],
   "source": [
    "loan_data_mi = pd.merge(loan_orig_mi, loan_perf, on='loan_sequence_number')"
   ]
  },
  {
   "cell_type": "code",
   "execution_count": 17,
   "id": "surrounded-poker",
   "metadata": {},
   "outputs": [],
   "source": [
    "loan_data_mi.to_csv('loan_perf_18_20_mi.csv', index=False)"
   ]
  },
  {
   "cell_type": "code",
   "execution_count": null,
   "id": "thirty-poverty",
   "metadata": {},
   "outputs": [],
   "source": []
  }
 ],
 "metadata": {
  "kernelspec": {
   "display_name": "Python 3",
   "language": "python",
   "name": "python3"
  },
  "language_info": {
   "codemirror_mode": {
    "name": "ipython",
    "version": 3
   },
   "file_extension": ".py",
   "mimetype": "text/x-python",
   "name": "python",
   "nbconvert_exporter": "python",
   "pygments_lexer": "ipython3",
   "version": "3.8.8"
  }
 },
 "nbformat": 4,
 "nbformat_minor": 5
}
