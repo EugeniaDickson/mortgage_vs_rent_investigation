{
 "cells": [
  {
   "cell_type": "code",
   "execution_count": null,
   "id": "anonymous-margin",
   "metadata": {},
   "outputs": [],
   "source": [
    "%matplotlib inline\n",
    "\n",
    "import json\n",
    "import pandas as pd\n",
    "import plotly.express as px\n",
    "import matplotlib.pyplot as plt"
   ]
  },
  {
   "cell_type": "code",
   "execution_count": null,
   "id": "fuzzy-rehabilitation",
   "metadata": {},
   "outputs": [],
   "source": [
    "df_sf = pd.read_csv('mortgage_vs_rent_sf.csv', dtype={'postal_code': str})\n",
    "df_mi = pd.read_csv('mortgage_vs_rent_mi.csv', dtype={'postal_code': str})"
   ]
  },
  {
   "cell_type": "code",
   "execution_count": null,
   "id": "entertaining-tourism",
   "metadata": {},
   "outputs": [],
   "source": [
    "df_sf = df_sf.groupby(['year', 'postal_code']).mean()[['morgate_vs_rent']].reset_index()\n",
    "df_mi = df_mi.groupby(['year', 'postal_code']).mean()[['morgate_vs_rent']].reset_index()"
   ]
  },
  {
   "cell_type": "code",
   "execution_count": null,
   "id": "african-apartment",
   "metadata": {},
   "outputs": [],
   "source": [
    "mortgage_zips = df_sf['postal_code'].unique().tolist()+df_mi['postal_code'].unique().tolist()\n",
    "mortgage_zips"
   ]
  },
  {
   "cell_type": "code",
   "execution_count": null,
   "id": "united-combat",
   "metadata": {},
   "outputs": [],
   "source": [
    "with open('../../data/geojson/ca_california_zip_codes_geo.min.json') as response:\n",
    "    zipcodes_sf = json.load(response)\n",
    "    \n",
    "with open('../../data/geojson/fl_florida_zip_codes_geo.min.json') as response:\n",
    "    zipcodes_mi = json.load(response)\n",
    "# ca_california_zip_codes_geo.min\n",
    "# fl_florida_zip_codes_geo.min\n",
    "# ny_new_york_zip_codes_geo.min\n",
    "# tx_texas_zip_codes_geo.min"
   ]
  },
  {
   "cell_type": "code",
   "execution_count": null,
   "id": "occupational-state",
   "metadata": {},
   "outputs": [],
   "source": [
    "json_zips_sf = []\n",
    "for z in zipcodes_sf['features']:\n",
    "    json_zips_sf.append(z['properties']['ZCTA5CE10'])\n",
    "\n",
    "json_zips_mi = []\n",
    "for z in zipcodes_mi['features']:\n",
    "    json_zips_mi.append(z['properties']['ZCTA5CE10'])"
   ]
  },
  {
   "cell_type": "code",
   "execution_count": null,
   "id": "abroad-logan",
   "metadata": {},
   "outputs": [],
   "source": [
    "json_zips_df_sf = {'postal_code': [], 'postal_code_full': []}\n",
    "for z in json_zips_sf:\n",
    "    temp = z[:3]+'00'\n",
    "    if temp in mortgage_zips:\n",
    "        json_zips_df_sf['postal_code_full'].append(z)\n",
    "        json_zips_df_sf['postal_code'].append(temp)\n",
    "json_zips_df_sf = pd.DataFrame(json_zips_df_sf)\n",
    "json_zips_df_sf"
   ]
  },
  {
   "cell_type": "code",
   "execution_count": null,
   "id": "approximate-veteran",
   "metadata": {},
   "outputs": [],
   "source": [
    "json_zips_df_mi = {'postal_code': [], 'postal_code_full': []}\n",
    "for z in json_zips_mi:\n",
    "    temp = z[:3]+'00'\n",
    "    if temp in mortgage_zips:\n",
    "        json_zips_df_mi['postal_code_full'].append(z)\n",
    "        json_zips_df_mi['postal_code'].append(temp)\n",
    "json_zips_df_mi = pd.DataFrame(json_zips_df_mi)\n",
    "json_zips_df_mi"
   ]
  },
  {
   "cell_type": "code",
   "execution_count": null,
   "id": "dental-doctrine",
   "metadata": {},
   "outputs": [],
   "source": [
    "df_sf = pd.merge(df_sf, json_zips_df_sf, how='left', on='postal_code')\n",
    "df_mi = pd.merge(df_mi, json_zips_df_mi, how='left', on='postal_code')"
   ]
  },
  {
   "cell_type": "code",
   "execution_count": null,
   "id": "lesser-prize",
   "metadata": {},
   "outputs": [],
   "source": [
    "df_sf_20 = df_sf[df_sf['year']==2020][['morgate_vs_rent', 'postal_code_full', 'postal_code']]\n",
    "df_mi_20 = df_mi[df_mi['year']==2020][['morgate_vs_rent', 'postal_code_full', 'postal_code']]"
   ]
  },
  {
   "cell_type": "code",
   "execution_count": null,
   "id": "damaged-platform",
   "metadata": {
    "scrolled": false
   },
   "outputs": [],
   "source": [
    "df_sf_20.sample(20)"
   ]
  },
  {
   "cell_type": "code",
   "execution_count": null,
   "id": "stylish-cartridge",
   "metadata": {},
   "outputs": [],
   "source": [
    "# SF\n",
    "# 37.775540, -122.442670\n",
    "\n",
    "# MI\n",
    "# 25.933817, -80.183161"
   ]
  },
  {
   "cell_type": "code",
   "execution_count": null,
   "id": "emerging-surgeon",
   "metadata": {},
   "outputs": [],
   "source": [
    "fig = px.choropleth_mapbox(df_sf_20, geojson=zipcodes_sf, locations='postal_code_full', color='morgate_vs_rent',\n",
    "                           featureidkey='properties.ZCTA5CE10',\n",
    "                           color_continuous_scale=\"Viridis\",\n",
    "                           mapbox_style=\"carto-positron\",\n",
    "                           zoom=10, center = {\"lat\": 37.775540, \"lon\": -122.442670},\n",
    "                           opacity=0.5,\n",
    "                          )\n",
    "fig.update_layout(margin={\"r\":0,\"t\":0,\"l\":0,\"b\":0})\n",
    "fig.show()"
   ]
  },
  {
   "cell_type": "code",
   "execution_count": null,
   "id": "balanced-disorder",
   "metadata": {},
   "outputs": [],
   "source": [
    "fig = px.choropleth_mapbox(df_mi_20, geojson=zipcodes_mi, locations='postal_code_full', color='morgate_vs_rent',\n",
    "                           featureidkey='properties.ZCTA5CE10',\n",
    "                           color_continuous_scale=\"Viridis\",\n",
    "                           mapbox_style=\"carto-positron\",\n",
    "                           zoom=10, center = {\"lat\": 25.933817, \"lon\": -80.183161},\n",
    "                           opacity=0.5,\n",
    "                          )\n",
    "fig.update_layout(margin={\"r\":0,\"t\":0,\"l\":0,\"b\":0})\n",
    "fig.show()"
   ]
  },
  {
   "cell_type": "code",
   "execution_count": null,
   "id": "violent-defeat",
   "metadata": {},
   "outputs": [],
   "source": []
  }
 ],
 "metadata": {
  "kernelspec": {
   "display_name": "Python 3",
   "language": "python",
   "name": "python3"
  },
  "language_info": {
   "codemirror_mode": {
    "name": "ipython",
    "version": 3
   },
   "file_extension": ".py",
   "mimetype": "text/x-python",
   "name": "python",
   "nbconvert_exporter": "python",
   "pygments_lexer": "ipython3",
   "version": "3.8.8"
  }
 },
 "nbformat": 4,
 "nbformat_minor": 5
}
